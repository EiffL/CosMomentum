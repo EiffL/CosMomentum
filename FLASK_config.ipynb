{
 "cells": [
  {
   "cell_type": "markdown",
   "metadata": {},
   "source": [
    "# Example Notebook for use of CosMomentum to configure FLASK simulations (Xavier et al 2016, https://arxiv.org/abs/1602.08503), e.g. for the purpose of covariance estimation of PDF based cosmological statistics"
   ]
  },
  {
   "cell_type": "code",
   "execution_count": 1,
   "metadata": {},
   "outputs": [],
   "source": [
    "# loading required packages\n",
    "import ctypes\n",
    "import sys\n",
    "import numpy as np\n",
    "import os\n",
    "import matplotlib.pyplot as plt"
   ]
  },
  {
   "cell_type": "code",
   "execution_count": 2,
   "metadata": {},
   "outputs": [],
   "source": [
    "# compiling and loading c++ library\n",
    "os.system(\"cd cpp_code; make DSS\")\n",
    "lib=ctypes.CDLL(\"./cpp_code/DSS.so\")"
   ]
  },
  {
   "cell_type": "code",
   "execution_count": 3,
   "metadata": {},
   "outputs": [],
   "source": [
    "# initialising a new universe and its matter content\n",
    "a_initial = 0.000025\n",
    "a_final = 1.0\n",
    "\n",
    "initialise_new_Universe = lib.initialise_new_Universe\n",
    "# initialise_new_Universe          (double a_initial,  double a_final,  double Omega_m,  double Omega_b,  double Omega_r,  double Omega_L,  double sigma_8,      double n_s,    double h_100,       double w0,       double w1)\n",
    "initialise_new_Universe.argtypes = [ ctypes.c_double, ctypes.c_double, ctypes.c_double, ctypes.c_double, ctypes.c_double, ctypes.c_double, ctypes.c_double, ctypes.c_double, ctypes.c_double, ctypes.c_double, ctypes.c_double]\n",
    "initialise_new_Universe.restype = None\n",
    "\n",
    "# Cosmology of Quijote sims\n",
    "Omfid = 0.3175\n",
    "Obfid = 0.049\n",
    "hfid = 0.6711\n",
    "nsfid = 0.9624\n",
    "sig8fid = 0.834\n",
    "\n",
    "# Cosmology of DEUS sims\n",
    "Omfid = 0.2573\n",
    "Obfid = 0.04356 \n",
    "hfid = 0.7200\n",
    "nsfid = 0.9630\n",
    "sig8fid = 0.8010\n",
    "\n",
    "# Cosmology of Takahashi++17 sims\n",
    "Omfid = 0.279\n",
    "Obfid = 0.279-0.233\n",
    "hfid = 0.7\n",
    "nsfid = 0.97\n",
    "sig8fid = 0.82\n",
    "\n",
    "# Cosmology of Buzzard sims\n",
    "Omfid = 0.286\n",
    "Obfid = 0.047\n",
    "hfid = 0.7\n",
    "nsfid = 0.96\n",
    "sig8fid = 0.82\n",
    "f_NL = 0.0\n",
    "\n",
    "density_sample_1 = 69.47036304452095/(np.pi*30.0**2)\n",
    "b1_sample_1 = 1.8\n",
    "b2_sample_1 = 0.0\n",
    "a0 = 1.26\n",
    "a1 = 0.28\n",
    "\n",
    "z = 1.0 # everywhere in this notebook\n",
    "\n",
    "initialise_new_Universe(a_initial, a_final, Omfid, Obfid, 0.0, 1.0-Omfid, sig8fid, nsfid, hfid, -1.0, 0.0)"
   ]
  },
  {
   "cell_type": "code",
   "execution_count": 4,
   "metadata": {},
   "outputs": [],
   "source": [
    "\n",
    "\n",
    "\n",
    "add_projected_galaxy_sample = lib.add_projected_galaxy_sample\n",
    "# add_projected_galaxy_sample          (int index_of_universe, const char *n_of_z_file, double density_in_Mpc_over_h_cubed,        double b1,        double b2,       double a0,       double a1)\n",
    "add_projected_galaxy_sample.argtypes = [         ctypes.c_int,         ctypes.c_char_p,                    ctypes.c_double,  ctypes.c_double,  ctypes.c_double, ctypes.c_double, ctypes.c_double]\n",
    "add_projected_galaxy_sample.restype = None\n",
    "\n",
    "\n",
    "return_N_max_projected = lib.return_N_max_projected\n",
    "# int return_N_max_projected      (int index_of_galaxy_sample, double R_in_Mpc_over_h, double var_NL_rescale)\n",
    "return_N_max_projected.argtypes = [              ctypes.c_int,        ctypes.c_double,       ctypes.c_double]\n",
    "return_N_max_projected.restype = ctypes.c_int\n",
    "\n",
    "\n",
    "change_parameters_of_projected_galaxy_sample = lib.change_parameters_of_projected_galaxy_sample\n",
    "# change_parameters_of_projected_galaxy_sample          (int index_of_galaxy_sample,        double z, double density_in_Mpc_over_h_cubed,        double b1,        double b2,       double a0,       double a1)\n",
    "change_parameters_of_projected_galaxy_sample.argtypes = [              ctypes.c_int, ctypes.c_double,                    ctypes.c_double,  ctypes.c_double,  ctypes.c_double, ctypes.c_double, ctypes.c_double]\n",
    "change_parameters_of_projected_galaxy_sample.restype = None\n",
    "\n",
    "change_b2_to_minimise_negative_densities_projected = lib.change_b2_to_minimise_negative_densities_projected\n",
    "# change_b2_to_minimise_negative_densities_projected          (int index_of_galaxy_sample, double R_in_Mpc_over_h, double var_NL_rescale)\n",
    "change_b2_to_minimise_negative_densities_projected.argtypes = [              ctypes.c_int,        ctypes.c_double,       ctypes.c_double]\n",
    "change_b2_to_minimise_negative_densities_projected.restype = ctypes.c_double\n"
   ]
  },
  {
   "cell_type": "code",
   "execution_count": 5,
   "metadata": {},
   "outputs": [],
   "source": [
    "# Creating first galaxy sample (lenses)\n",
    "#n_of_z_file_str = 'Data/redshift_distributions/pofz_Y1_redMaGiC_bin4.dat'\n",
    "n_of_z_file_str = 'Data/redshift_distributions/nofz_LRG_NGC.dat'\n",
    "n_of_z_file = ctypes.c_char_p(n_of_z_file_str.encode('utf-8'))\n",
    "add_projected_galaxy_sample(0, n_of_z_file, density_sample_1, b1_sample_1, b2_sample_1, a0, a1)"
   ]
  },
  {
   "cell_type": "code",
   "execution_count": 6,
   "metadata": {},
   "outputs": [],
   "source": [
    "# Creating second galaxy sample (sources)\n",
    "#n_of_z_file_str = 'Data/redshift_distributions/mcal_0.90_1.30_pz.tab'\n",
    "n_of_z_file_str = 'Data/redshift_distributions/nofz_single_redshift.dat'\n",
    "n_of_z_file = ctypes.c_char_p(n_of_z_file_str.encode('utf-8'))\n",
    "add_projected_galaxy_sample(0, n_of_z_file, density_sample_1, b1_sample_1, b2_sample_1, a0, a1)"
   ]
  },
  {
   "cell_type": "code",
   "execution_count": 7,
   "metadata": {},
   "outputs": [
    {
     "name": "stdout",
     "output_type": "stream",
     "text": [
      "16.54534274907785\n"
     ]
    }
   ],
   "source": [
    "\n",
    "return_R_in_Mpc_over_h_from_angular_scale = lib.return_R_in_Mpc_over_h_from_angular_scale\n",
    "# return_R_in_Mpc_over_h_from_angular_scale          (int index_of_galaxy_sample, double theta_in_arcmin)\n",
    "return_R_in_Mpc_over_h_from_angular_scale.argtypes = [              ctypes.c_int,        ctypes.c_double]\n",
    "return_R_in_Mpc_over_h_from_angular_scale.restype = ctypes.c_double\n",
    "\n",
    "theta = 30.0\n",
    "R_2D = return_R_in_Mpc_over_h_from_angular_scale(0, theta)\n",
    "print(R_2D)"
   ]
  },
  {
   "cell_type": "code",
   "execution_count": 8,
   "metadata": {},
   "outputs": [],
   "source": [
    "\n",
    "configure_FLASK_for_delta_g_and_kappa = lib.configure_FLASK_for_delta_g_and_kappa\n",
    "# configure_FLASK_for_delta_g_and_kappa          (   int l_max, double theta_in_arcmin,     double bias,        double r, int index_of_lens_sample, int index_of_source_sample, const char *n_of_z_file)\n",
    "configure_FLASK_for_delta_g_and_kappa.argtypes = [ctypes.c_int,        ctypes.c_double, ctypes.c_double, ctypes.c_double,             ctypes.c_int,               ctypes.c_int,         ctypes.c_char_p]\n",
    "configure_FLASK_for_delta_g_and_kappa.restype = None"
   ]
  },
  {
   "cell_type": "code",
   "execution_count": 9,
   "metadata": {},
   "outputs": [],
   "source": [
    "l_max = 10000\n",
    "theta_in_arcmin = 30.0\n",
    "bias = 2.0\n",
    "r = 0.95\n",
    "index_of_lens_sample = 0\n",
    "index_of_source_sample = 1\n",
    "\n",
    "output_file_str = 'FLASK_config.tab'\n",
    "output_file = ctypes.c_char_p(output_file_str.encode('utf-8'))\n",
    "configure_FLASK_for_delta_g_and_kappa(l_max, theta_in_arcmin, bias, r, index_of_lens_sample, index_of_source_sample, output_file)"
   ]
  },
  {
   "cell_type": "code",
   "execution_count": 10,
   "metadata": {},
   "outputs": [],
   "source": [
    "Cell_data = np.loadtxt(\"FLASK_config.tab\")\n",
    "ell_values = Cell_data[2:,0]\n",
    "Cell_values = Cell_data[2:,3] + Cell_data[2:,4]\n",
    "Cell_values_2 = Cell_data[2:,1]"
   ]
  },
  {
   "cell_type": "code",
   "execution_count": 11,
   "metadata": {},
   "outputs": [
    {
     "name": "stdout",
     "output_type": "stream",
     "text": [
      "3.2489149000000005e-08\n"
     ]
    },
    {
     "data": {
      "text/plain": [
       "[<matplotlib.lines.Line2D at 0x114815ba8>]"
      ]
     },
     "execution_count": 11,
     "metadata": {},
     "output_type": "execute_result"
    },
    {
     "data": {
      "image/png": "[encoded data removed]",
      "text/plain": [
       "<Figure size 432x288 with 1 Axes>"
      ]
     },
     "metadata": {
      "needs_background": "light"
     },
     "output_type": "display_data"
    }
   ],
   "source": [
    "print(np.max(Cell_values))\n",
    "plt.loglog(ell_values, Cell_values)\n",
    "#plt.loglog(ell_values, ell_values*Cell_values_2, linestyle='dashed')\n",
    "#9.985472e-08"
   ]
  },
  {
   "cell_type": "code",
   "execution_count": 12,
   "metadata": {},
   "outputs": [],
   "source": [
    "return_lognormal_shift_for_individual_FLASK_bin = lib.return_lognormal_shift_for_individual_FLASK_bin\n",
    "# return_lognormal_shift_for_individual_FLASK_bin          (double theta_in_arcmin, int index_of_galaxy_sample, int sources0_or_lenses1)\n",
    "return_lognormal_shift_for_individual_FLASK_bin.argtypes = [       ctypes.c_double,               ctypes.c_int,            ctypes.c_int]\n",
    "return_lognormal_shift_for_individual_FLASK_bin.restype = ctypes.c_double"
   ]
  },
  {
   "cell_type": "code",
   "execution_count": 14,
   "metadata": {},
   "outputs": [],
   "source": [
    "# Creating second galaxy sample (sources)\n",
    "n_of_z_file_str = 'Data/redshift_distributions/mcal_0.90_1.30_pz.tab'\n",
    "n_of_z_file = ctypes.c_char_p(n_of_z_file_str.encode('utf-8'))\n",
    "add_projected_galaxy_sample(0, n_of_z_file, density_sample_1, b1_sample_1, b2_sample_1, a0, a1)"
   ]
  },
  {
   "cell_type": "code",
   "execution_count": 15,
   "metadata": {},
   "outputs": [
    {
     "name": "stdout",
     "output_type": "stream",
     "text": [
      "0.6312426574043428 0.03015627310918608\n"
     ]
    }
   ],
   "source": [
    "theta_in_arcmin = 10.0\n",
    "shift_for_lenses = return_lognormal_shift_for_individual_FLASK_bin(theta_in_arcmin, 0, 1)\n",
    "shift_for_sources = return_lognormal_shift_for_individual_FLASK_bin(theta_in_arcmin, 2, 0)\n",
    "print(shift_for_lenses, shift_for_sources)"
   ]
  },
  {
   "cell_type": "code",
   "execution_count": null,
   "metadata": {},
   "outputs": [],
   "source": []
  }
 ],
 "metadata": {
  "anaconda-cloud": {
   "environment": null,
   "summary": "trough lenser python notebook",
   "url": "https://anaconda.org/danielgruen/returning_data_vector_to_notebook-py"
  },
  "kernelspec": {
   "display_name": "Python 2",
   "language": "python",
   "name": "python2"
  },
  "language_info": {
   "codemirror_mode": {
    "name": "ipython",
    "version": 3
   },
   "file_extension": ".py",
   "mimetype": "text/x-python",
   "name": "python",
   "nbconvert_exporter": "python",
   "pygments_lexer": "ipython3",
   "version": "3.5.6"
  }
 },
 "nbformat": 4,
 "nbformat_minor": 1
}
